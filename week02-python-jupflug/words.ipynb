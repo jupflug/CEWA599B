{
 "cells": [
  {
   "cell_type": "markdown",
   "metadata": {},
   "source": [
    "# Another play on `words`\n",
    ":face_with_rolling_eyes:\n",
    "\n",
    "## Objectives\n",
    "1. Explore basic Python capabilities for a known dataset\n",
    "2. Explore file input/output, string manipulation, loops and basic constructs in Python\n",
    "\n",
    "## Instructions\n",
    "1. Repeat portions of last week's `words` 01_shell_exercise using Python and the Jupyter notebook\n",
    "2. Turn in the completed Jupyter notebook containing code and output"
   ]
  },
  {
   "cell_type": "markdown",
   "metadata": {},
   "source": [
    "## 0. Read the file and create a list of strings for subsequent analysis\n",
    "*Note: you will need to handle newline strings '\\n' at the end of each word*"
   ]
  },
  {
   "cell_type": "code",
   "execution_count": 1,
   "metadata": {},
   "outputs": [],
   "source": [
    "wordList = open('words').read().splitlines()"
   ]
  },
  {
   "cell_type": "markdown",
   "metadata": {},
   "source": [
    "## 1. How many words are there in the file?"
   ]
  },
  {
   "cell_type": "code",
   "execution_count": 2,
   "metadata": {},
   "outputs": [
    {
     "data": {
      "text/plain": [
       "235886"
      ]
     },
     "execution_count": 2,
     "metadata": {},
     "output_type": "execute_result"
    }
   ],
   "source": [
    "len(wordList)"
   ]
  },
  {
   "cell_type": "markdown",
   "metadata": {},
   "source": [
    "## 2. How many characters total?\n",
    "*Use list comprehension*"
   ]
  },
  {
   "cell_type": "code",
   "execution_count": 5,
   "metadata": {},
   "outputs": [
    {
     "data": {
      "text/plain": [
       "2257223"
      ]
     },
     "execution_count": 5,
     "metadata": {},
     "output_type": "execute_result"
    }
   ],
   "source": [
    "# This is different from what the shell work found.\n",
    "# read into this and it seems like python does different stuff\n",
    "# with special characters and encoding??\n",
    "# I don't think this should be an issue with this list of words though...\n",
    "sum([len(word) for word in wordList])"
   ]
  },
  {
   "cell_type": "markdown",
   "metadata": {},
   "source": [
    "## 3. Print the first 3 words, print the last 3 words\n",
    "*Use relative indices for list slicing (i.e., don't use your length from question #1)*"
   ]
  },
  {
   "cell_type": "code",
   "execution_count": 6,
   "metadata": {},
   "outputs": [
    {
     "name": "stdout",
     "output_type": "stream",
     "text": [
      "['A', 'a', 'aa']\n",
      "['zythum', 'Zyzomys', 'Zyzzogeton']\n"
     ]
    }
   ],
   "source": [
    "print(wordList[:3])\n",
    "print(wordList[-3:])"
   ]
  },
  {
   "cell_type": "markdown",
   "metadata": {},
   "source": [
    "## 4. How many characters are in the longest word?"
   ]
  },
  {
   "cell_type": "code",
   "execution_count": 7,
   "metadata": {},
   "outputs": [
    {
     "data": {
      "text/plain": [
       "24"
      ]
     },
     "execution_count": 7,
     "metadata": {},
     "output_type": "execute_result"
    }
   ],
   "source": [
    "max([len(word) for word in wordList])"
   ]
  },
  {
   "cell_type": "markdown",
   "metadata": {},
   "source": [
    "## 5. Does your list contain the nickname for the UW mascot?\n",
    "*This should be simple boolean statement*"
   ]
  },
  {
   "cell_type": "code",
   "execution_count": 8,
   "metadata": {},
   "outputs": [
    {
     "data": {
      "text/plain": [
       "True"
      ]
     },
     "execution_count": 8,
     "metadata": {},
     "output_type": "execute_result"
    }
   ],
   "source": [
    "'dubs' in wordList"
   ]
  },
  {
   "cell_type": "markdown",
   "metadata": {},
   "source": [
    "## 6. If so, what is the index for that word?  Check by printing the word at that index."
   ]
  },
  {
   "cell_type": "code",
   "execution_count": 9,
   "metadata": {},
   "outputs": [
    {
     "name": "stdout",
     "output_type": "stream",
     "text": [
      "58209\n"
     ]
    },
    {
     "data": {
      "text/plain": [
       "'dubs'"
      ]
     },
     "execution_count": 9,
     "metadata": {},
     "output_type": "execute_result"
    }
   ],
   "source": [
    "print(wordList.index('dubs'))\n",
    "wordList[58209]"
   ]
  },
  {
   "cell_type": "markdown",
   "metadata": {},
   "source": [
    "## 7. Create a function to accomplish #5 and #6\n",
    "* Function should accept two arguments, the list of words and the word you want to find\n",
    "* If the word is found, the function should return the index for that word, otherwise return `None`"
   ]
  },
  {
   "cell_type": "code",
   "execution_count": 10,
   "metadata": {},
   "outputs": [
    {
     "data": {
      "text/plain": [
       "58209"
      ]
     },
     "execution_count": 10,
     "metadata": {},
     "output_type": "execute_result"
    }
   ],
   "source": [
    "def findWord(lister,word):\n",
    "    try:\n",
    "        return lister.index(word)\n",
    "    except:\n",
    "        return None\n",
    "findWord(wordList,'dubs')        "
   ]
  },
  {
   "cell_type": "markdown",
   "metadata": {},
   "source": [
    "## 8. How many words begin with each letter of the alphabet (case-insensitive)?\n",
    "Hints:\n",
    "* Python has built-in list of lowercase letters stored as string.ascii_lowercase\n",
    "* There are a few ways to approach this, but most straightforward is probably to use nested loops:\n",
    "    * Loop through each letter\n",
    "        * Initialize some count variable or empty list\n",
    "        * Loop through each word\n",
    "            * Check to see if the word starts with the letter (careful about case!)\n",
    "            * If it does, increment your counter or append the word to the list\n",
    "        * Print out the letter and the total number of words            "
   ]
  },
  {
   "cell_type": "code",
   "execution_count": 11,
   "metadata": {},
   "outputs": [
    {
     "name": "stdout",
     "output_type": "stream",
     "text": [
      "a 17096\n",
      "b 11070\n",
      "c 19901\n",
      "d 10896\n",
      "e 8736\n",
      "f 6860\n",
      "g 6861\n",
      "h 9027\n",
      "i 8799\n",
      "j 1642\n",
      "k 2281\n",
      "l 6284\n",
      "m 12616\n",
      "n 6780\n",
      "o 7849\n",
      "p 24461\n",
      "q 1152\n",
      "r 9671\n",
      "s 25162\n",
      "t 12966\n",
      "u 16387\n",
      "v 3440\n",
      "w 3944\n",
      "x 385\n",
      "y 671\n",
      "z 949\n"
     ]
    }
   ],
   "source": [
    "import string\n",
    "Lets = string.ascii_lowercase\n",
    "\n",
    "for i in Lets:\n",
    "    count = 0\n",
    "    for word in wordList:\n",
    "        if word[0].lower() == i:\n",
    "            count += 1\n",
    "    print(i,count)"
   ]
  },
  {
   "cell_type": "markdown",
   "metadata": {},
   "source": [
    "## 99. Extra Credit (or if you finish the above exercises early)\n",
    "Create a standalone python script that can be executed on the command line:\n",
    "* Use sys.argv to accept command line argument for the `words` filename location\n",
    "* Print the results to stdout\n",
    "* Save the results to a file called `words_lettercount.txt`\n",
    "    * Use the os.path module to append the '_lettercount.txt' string to the original filename\n",
    "    * Output file should include a letter and total count on each line (“a 17096”)"
   ]
  },
  {
   "cell_type": "code",
   "execution_count": null,
   "metadata": {},
   "outputs": [],
   "source": []
  }
 ],
 "metadata": {
  "kernelspec": {
   "display_name": "Python 3",
   "language": "python",
   "name": "python3"
  },
  "language_info": {
   "codemirror_mode": {
    "name": "ipython",
    "version": 3
   },
   "file_extension": ".py",
   "mimetype": "text/x-python",
   "name": "python",
   "nbconvert_exporter": "python",
   "pygments_lexer": "ipython3",
   "version": "3.6.7"
  }
 },
 "nbformat": 4,
 "nbformat_minor": 2
}
